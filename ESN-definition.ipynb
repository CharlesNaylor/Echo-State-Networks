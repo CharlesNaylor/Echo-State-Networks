{
 "cells": [
  {
   "cell_type": "markdown",
   "metadata": {},
   "source": [
    "**Authors: Francesco Mannella and Emilio Cartoni\n",
    "\n",
    "This manuscript describes the leaky Echo-State network together with some implementations and optimizations of the inner weights of the network.\n",
    "\n",
    "\n",
    "## The leaky Echo-State network\n",
    "\n",
    "The dynamical system is a recurrent network of leaky units with a sigmoidal output function:\n",
    "\n",
    "$\n",
    "\\tau\\dot{\\mathbf{x}} = -\\mathbf{x} + \\mathbf{W}\\tanh\\left(\\mathbf{x}\\right)\n",
    "$\n",
    "\n",
    "$\n",
    "\\mathbf{x} \\in \\mathbb{R}^N,  \\mathbf{W} \\in \\mathbb{R}^{N\\times N}\n",
    "$\n",
    "\n",
    "The only constraint defining echo-state networks compared to other recurrent networks is the ***ESP*** (Echo-State Property):\n",
    "\n",
    "$\n",
    "1-\\epsilon <  \\rho\\left(\\mathbf{V}\\right)  < 1 \n",
    "$\n",
    "\n",
    "where $\\mathbf{V}$ is the correction of the weight matrix accounting for leakyness (http://goo.gl/bqGAJu)\n",
    "\n",
    "$\n",
    "\\mathbf{V} = \\frac{\\delta t}{\\tau}\\mathbf{W} + \\left(1 - \\frac{\\delta t}{\\tau}\\right)\\mathbf{I} \n",
    "$\n",
    "\n",
    "and $\\rho\\left(\\mathbf{V}\\right)$ is the spectral radius of the matrix \n",
    "\n",
    "$\n",
    "\\rho\\left(\\mathbf{V}\\right) = \\max_i\\left(\\left|\\lambda^\\mathbf{V}_i \\right|\\right)\n",
    "$\n",
    "\n",
    "## The dynamic-rotation trick\n",
    "\n",
    "Provided that we scale the spectral radius of the weight matrix $\\mathbf{W}$ so that it fulfills the ESP clause we can initialize the weights to any set of values. \n",
    "\n",
    "In particular, we can modulate the ratio between the variance of the real part of the eigenvalues of $\\mathbf{W}$ and the variance of their imaginary part.\n",
    "\n",
    "For every square matrix $\\mathbf{W}$ the following holds true:\n",
    "\n",
    "$\\mathbf{W} =\\frac{\\mathbf{W} + \\mathbf{W}^T}{2} + \\frac{\\mathbf{W} - \\mathbf{W}^T}{2}$\n",
    "\n",
    "\n",
    "where\n",
    "\n",
    "$\\mathbf{W}_{sim} =\\frac{\\mathbf{W} + \\mathbf{W}^T}{2}$\n",
    "\n",
    "is a simmetric matrix and\n",
    "\n",
    "$\\mathbf{W}_{skew} =\\frac{\\mathbf{W} - \\mathbf{W}^T}{2}$\n",
    "\n",
    "is a skew matrix.\n",
    "\n",
    "Skew matrices have pure imaginary eigenvalues.\n",
    "A dynamical system having a skew matrix as its weight matrix produces only ***infinitesimal rotations***. \n",
    "\n",
    "On the other side simmetric matrices have pure real eigenvalues.\n",
    "A dynamical system having a simmetric matrix as its weight matrix produces produces only ***infinitesimal contractions/expansions***.\n",
    "\n",
    "\n",
    "Controlling the amount of infinitesimal rotation in the behaviour of a reservoir allows to increase the variability in the states of the network narrowing the distance with chaotic behaviour.\n",
    "As a result the network is sensible to features at a lower time scale (Note: does it mean faster or slower time scale?) and its \"memory\" interval increases (Note: do we have proofs, references or examples for this?).\n",
    "\n",
    "Knowing this we can build a new matrix\n",
    "\n",
    "$\\mathbf{W} = \\alpha \\mathbf{W}_{skew} + (1-\\alpha)\\mathbf{W}_{sim}$\n",
    "\n",
    "where $\\alpha$ is the proportion of \"skewness\"\n",
    "of the matrix.\n",
    "\n"
   ]
  },
  {
   "cell_type": "markdown",
   "metadata": {},
   "source": [
    "## Finding the inner weights $\\mathbf{W}$\n",
    "\n",
    "* [ESP: analytical method (the wrong one)](#ESP%3A-analytical-method-%28the-wrong-one%29)\n",
    "* [ESP: iterative method (the right one)](#ESP%3A-iterative-method-%28the-right-one%29)\n",
    "* [ESP: analytical method (the RIGHT one)](#ESP%3A-analytical-method-%28the-RIGHT-one%29)\n",
    "* [Redefining our ESN according to Jaeger 2007](#Redefining-our-ESN-according-to-Jaeger-2007)"
   ]
  },
  {
   "cell_type": "markdown",
   "metadata": {},
   "source": [
    "#### Common settings"
   ]
  },
  {
   "cell_type": "code",
   "execution_count": 3,
   "metadata": {
    "ExecuteTime": {
     "end_time": "2017-10-18T10:25:35.463762Z",
     "start_time": "2017-10-18T10:25:35.211635Z"
    },
    "run_control": {
     "marked": false
    }
   },
   "outputs": [
    {
     "name": "stdout",
     "output_type": "stream",
     "text": [
      "done\n"
     ]
    }
   ],
   "source": [
    "%matplotlib inline\n",
    "from pylab import *\n",
    "\n",
    "# costants\n",
    "#-------------------------------------------------------\n",
    "n = 200\n",
    "dt = 0.001\n",
    "tau = 0.01\n",
    "epsilon = 1e-60\n",
    "alpha = 0.1\n",
    "target = 1-epsilon\n",
    "itarget = 1.0 - (epsilon/2.0)\n",
    "#-------------------------------------------------------\n",
    "\n",
    "\n",
    "# utils\n",
    "#-------------------------------------------------------\n",
    "def get_rho_and_eig(X) :\n",
    "    e = eigvals(X) \n",
    "    return  max(abs(e)), e\n",
    "\n",
    "def get_W_from_V(X) :\n",
    "    return (tau/dt)*(X - (1-(dt/tau))*eye(n,n)) \n",
    "\n",
    "def get_V_from_W(X) :\n",
    "    return (dt/tau)*X + (1-(dt/tau))*eye(n,n)\n",
    "\n",
    "def modulate_rotation_contraction(X) :\n",
    "    W1 = .5*(X-X.T)\n",
    "    W2 = .5*(X+X.T)\n",
    "\n",
    "    return alpha*W2 +(1-alpha)*W1\n",
    "\n",
    "#-------------------------------------------------------\n",
    "# create initial weights\n",
    "W = randn(n, n)\n",
    "W = modulate_rotation_contraction(W)\n",
    "rho, e = get_rho_and_eig(W) \n",
    "3\n",
    "SSW = W.copy()\n",
    "# store weights scaled tho rho=1\n",
    "SW = (W/rho)\n",
    "print \"done\""
   ]
  },
  {
   "cell_type": "markdown",
   "metadata": {},
   "source": [
    "### ESP: analytical method (the wrong one)"
   ]
  },
  {
   "cell_type": "markdown",
   "metadata": {},
   "source": [
    "\n",
    "* ***Init*** $\\mathbf{V}$ sampling from $\\mathcal{N} (m=0,\\sigma=1)$\n",
    "* ***Scale***  $\\mathbf{V}$ so that $1 -\\epsilon < \\rho(\\mathbf{V}) < 1$\n",
    "* ***Get*** $\\mathbf{W}$ from $\\mathbf{V}$ : $\\mathbf{W} = \\frac{\\tau}{\\delta t}\\left(\\mathbf{V} - \\left(1-\\frac{\\delta t}{\\tau}\\right)\\mathbf{I} \\right)$\n",
    "\n",
    "#### Why it is the wrong method:\n",
    "What we are really searching is a relation between the spectral radius of $\\mathbf{W}$ and $\\mathbf{V}$, instead we are not interested in maintaining other characteristics of $\\mathbf{V}$ in $\\mathbf{W}$. In particular, $\\mathbf{V}$ is obtainied from $\\mathbf{W}$ by scaling and translating its diagonal by a constant. Indeed multiplying a square matrix times a scalar means scaling all its eigenvalues, while trans means translating its diagonal by a costant means translating the mean of the real part of its eigenvalues. Thus the method above does a further unwanted translation $ -\\frac{\\tau}{\\delta t}\\left(1-\\frac{\\delta t}{\\tau}\\right)\\mathbf{I}$. This last operation has the catastrophic effect of redefining all weights as negative."
   ]
  },
  {
   "cell_type": "code",
   "execution_count": 4,
   "metadata": {
    "ExecuteTime": {
     "end_time": "2017-10-18T10:25:35.942032Z",
     "start_time": "2017-10-18T10:25:35.465341Z"
    },
    "run_control": {
     "marked": false
    },
    "scrolled": false
   },
   "outputs": [
    {
     "name": "stdout",
     "output_type": "stream",
     "text": [
      "\n",
      "ESP: analytical method (the wrong one)\"\n",
      "\n",
      "W\n",
      "--------------------------------------\n",
      "rho := 175.904046281156  \n",
      "min := -26.9439  max :=  25.9188   \n",
      "\n",
      "V\n",
      "--------------------------------------\n",
      "rho :=   1.000000000000  \n",
      "min :=  -0.1367  max :=   0.4729   \n",
      "\n"
     ]
    },
    {
     "data": {
      "image/png": "[encoded data removed]",
      "text/plain": [
       "<matplotlib.figure.Figure at 0x7f368fb77dd0>"
      ]
     },
     "metadata": {},
     "output_type": "display_data"
    }
   ],
   "source": [
    "V = get_V_from_W(W)\n",
    "rho, e = get_rho_and_eig(V) \n",
    "V = (1-epsilon/2.0)*V/rho\n",
    "W = get_W_from_V(W)\n",
    "\n",
    "\n",
    "\n",
    "figure(\"Method1\", figsize=(6,2))\n",
    "#*****************************\n",
    "m_rho, m_e = get_rho_and_eig(V) \n",
    "#*****************************\n",
    "subplot(121, aspect=\"equal\")\n",
    "title(\"eigenvalues of V\")\n",
    "scatter(real(m_e), imag(m_e))\n",
    "xlim([-m_rho, m_rho])\n",
    "ylim([-m_rho, m_rho])\n",
    "#*****************************\n",
    "\n",
    "#*****************************\n",
    "rho, e = get_rho_and_eig(W) \n",
    "#*****************************\n",
    "subplot(122, aspect=\"equal\")\n",
    "title(\"eigenvalues of W\")\n",
    "scatter(real(e), imag(e))\n",
    "xlim([-rho, rho])\n",
    "ylim([-rho, rho])\n",
    "#*****************************\n",
    "\n",
    "print \"\"\"\n",
    "ESP: analytical method (the wrong one)\"\n",
    "\n",
    "W\n",
    "--------------------------------------\n",
    "rho := {:16.12f}  \n",
    "min := {:8.4f}  max := {:8.4f}   \n",
    "\n",
    "V\n",
    "--------------------------------------\n",
    "rho := {:16.12f}  \n",
    "min := {:8.4f}  max := {:8.4f}   \n",
    "\"\"\".format(rho, W.min(), W.max(), \n",
    "           m_rho, V.min(), V.max())"
   ]
  },
  {
   "cell_type": "markdown",
   "metadata": {},
   "source": [
    "### ESP: iterative method (the right one)\n",
    "\n",
    "* ***Init*** $\\mathbf{SW}$ sampling from $\\mathcal{N} (m=0,\\sigma=1)$\n",
    "* ***Scale***  $\\mathbf{SW}$ so that $\\rho(\\mathbf{SW}) = 1$\n",
    "* *** Do ***\n",
    "    * ***choose*** an estimate $\\hat{\\rho}$\n",
    "    * ***scale*** to  $\\mathbf{W} = \\hat{\\rho}\\mathbf{SW}$\n",
    "    * ***compute*** $\\mathbf{V} = \\frac{\\delta t}{\\tau}\\mathbf{W} + \\left(1 - \\frac{\\delta t}{\\tau}\\right)\\mathbf{I}$\n",
    "* *** while *** not $(1-\\epsilon < \\rho(\\mathbf{V}) < 1)$ \n",
    "\n",
    "We can optimize the search using a root-finding method (e.g the [bisection](https://en.wikipedia.org/wiki/Bisection_method) method )\n",
    "\n",
    "***PROS***: This method finds the correct $\\hat{\\rho} = \\rho{(\\mathbf{W})}$ because it searches only in the space of the spectral radii of $\\mathbf{W}$. Instead, $\\rho(\\mathbf{V})$ is only used as a parameter of the objective function of any choosen root-finding iterative method.\n",
    "\n",
    "***CONS***: This method can be computationally expensive. In particular, the smaller we choose $\\epsilon$ the longer it takes (more iterations) to find the solution."
   ]
  },
  {
   "cell_type": "code",
   "execution_count": 5,
   "metadata": {
    "ExecuteTime": {
     "end_time": "2017-10-18T10:25:41.446499Z",
     "start_time": "2017-10-18T10:25:35.943215Z"
    },
    "scrolled": false
   },
   "outputs": [
    {
     "name": "stdout",
     "output_type": "stream",
     "text": [
      "\n",
      "\n",
      "computed in 37.86684s\n",
      "\n",
      "\n",
      "\n",
      "ESP: iterative method\n",
      "W\n",
      "--------------------------------------\n",
      "rho :=   4.386674421169  \n",
      "min :=  -0.6729  max :=   0.6473   \n",
      "\n",
      "V \n",
      "--------------------------------------\n",
      "rho :=   1.000000000000  \n",
      "min :=  -0.0673  max :=   0.9081   \n",
      "\n"
     ]
    },
    {
     "data": {
      "image/png": "[encoded data removed]",
      "text/plain": [
       "<matplotlib.figure.Figure at 0x7f3657c4d350>"
      ]
     },
     "metadata": {},
     "output_type": "display_data"
    }
   ],
   "source": [
    "from scipy.optimize import bisect\n",
    "\n",
    "def dist(rho_estimate) :\n",
    "    V = get_V_from_W(rho_estimate*SW)\n",
    "    effective_rho_estimate,_ = get_rho_and_eig(V)\n",
    "    return itarget - effective_rho_estimate\n",
    "\n",
    "import time\n",
    "start = time.clock()\n",
    "\n",
    "# ---------------------------------------------------------------\n",
    "rho_estimate = bisect(lambda x: dist(x), \n",
    "                      1-epsilon, tau/dt, \n",
    "                      xtol = epsilon/2.)\n",
    "# ---------------------------------------------------------------\n",
    "\n",
    "print\n",
    "print\n",
    "print \"computed in {}s\".format(time.clock() - start)\n",
    "print \n",
    "print\n",
    "\n",
    "W = SW*rho_estimate\n",
    "V = get_V_from_W(W)\n",
    "\n",
    "figure(\"Method2\")\n",
    "#*****************************\n",
    "m_rho, m_e = get_rho_and_eig(V) \n",
    "#*****************************\n",
    "subplot(121, aspect=\"equal\")\n",
    "title(\"eigenvalues of V\")\n",
    "scatter(real(m_e), imag(m_e))\n",
    "xlim([-m_rho, m_rho])\n",
    "ylim([-m_rho, m_rho])\n",
    "#*****************************\n",
    "\n",
    "#*****************************\n",
    "rho, e = get_rho_and_eig(W) \n",
    "#*****************************\n",
    "subplot(122, aspect=\"equal\")\n",
    "title(\"eigenvalues of W\")\n",
    "scatter(real(e), imag(e))\n",
    "xlim([-rho, rho])\n",
    "ylim([-rho, rho])\n",
    "#*****************************\n",
    "\n",
    "print \"\"\"\n",
    "ESP: iterative method\n",
    "W\n",
    "--------------------------------------\n",
    "rho := {:16.12f}  \n",
    "min := {:8.4f}  max := {:8.4f}   \n",
    "\n",
    "V \n",
    "--------------------------------------\n",
    "rho := {:16.12f}  \n",
    "min := {:8.4f}  max := {:8.4f}   \n",
    "\"\"\".format(rho, W.min(), W.max(), \n",
    "           m_rho, V.min(), V.max())"
   ]
  },
  {
   "cell_type": "markdown",
   "metadata": {},
   "source": [
    "### ESP: analytical method (the RIGHT one)\n",
    "\n",
    "Given that\n",
    "\n",
    "$\\mathbf{V} = \\frac{\\delta t}{\\tau}\\hat{\\rho}\\mathbf{SW} + \\left(1 - \\frac{\\delta t}{\\tau}\\right)\\mathbf{I}$\n",
    "\n",
    "where\n",
    "\n",
    "$\\left\\{\\mathbf{SW}\\mid\\mathbf{SW}\\in\\mathbb{R}^{n\\times  n}\\wedge\\rho(\\mathbf{SW}) = 1\\right\\}$\n",
    "\n",
    "$\\left\\{\\hat{\\rho}\\mid  \\hat{\\rho}\\in \\mathbb{R}_{>0}\\wedge \\rho(\\mathbf{V}) = 1-\\frac{\\epsilon}{2}\\right\\}$\n",
    "\n",
    "and $(\\mathbf{v}\\circ\\mathbf{v})$ is the [Hadamard product\n",
    "](https://en.wikipedia.org/wiki/Hadamard_product_%28matrices%29#Definition).\n",
    "\n",
    "\n",
    "The vector of eigenvalues of $\\mathbf{V}$ is\n",
    "\n",
    "$\\mathbf{\\Lambda}^V = (\\lambda^V_0,\\lambda^V_1\\dots\\lambda^V_n)$ \n",
    "\n",
    "And we can write the absolute values of the eigenvalues as\n",
    "\n",
    "$\n",
    "\\begin{align}\n",
    "\\left|\\mathbf{\\Lambda}^V\\right| = \\sqrt{ \\left(h\\mathbf{k}\\circ\\mathbf{x} + \\left(1-h\\right)\\right)^2 + \\left(h\\mathbf{k} \\circ\\mathbf{y}\\right)^2 }& \n",
    "\\end{align}\n",
    "$\n",
    "\n",
    "where\n",
    "\n",
    "$h = \\frac{\\delta t}{\\tau}$\n",
    "\n",
    "$\\mathbf{x} = \\operatorname{Re}(\\mathbf{\\Lambda}^V)$\n",
    "\n",
    "$\\mathbf{y} = \\operatorname{Im}(\\mathbf{\\Lambda}^V)$ \n",
    "\n",
    "$\\mathbf{k} = \\hat{\\rho}\\mathbf{1}_n$ \n",
    "\n",
    "\n",
    "Now we can think $\\mathbf{k}$ as a vector of unknown values and\n",
    "solve for $\\mathbf{k}$ the following equation:\n",
    "\n",
    "$\\left|\\mathbf{\\Lambda}^V\\right| =  (1 -\\frac{\\epsilon}{2})\\mathbf{1}_n $\n",
    "\n",
    "$\n",
    "\\left|\\mathbf{\\Lambda}^V\\right| - (1-\\frac{\\epsilon}{2})\\mathbf{1}_n = 0 \n",
    "$\n",
    "\n",
    "$\n",
    "\\left(\\mathbf{x}^2h^2+\\mathbf{y}^2h^2\\right)\\circ\\mathbf{k}^{\\circ2} + \n",
    "\\left(2\\mathbf{x}h-2\\mathbf{x}h^2\\right)\\circ\\mathbf{k} + \\left(1+h^2-2h-\n",
    "\\left(1-\\frac{\\epsilon}{2}\\right)^2\\mathbf{1}_n\\right) = 0\n",
    "$\n",
    "\n",
    "where $\\mathbf{v}^{\\circ2}$ is the [Hadamard power](https://en.wikipedia.org/wiki/Hadamard_product_%28matrices%29#Analogous_operations).\n",
    "\n",
    "\n",
    "Since this is a quadratic equation we will have two sets of solutions. \n",
    "We choose as the correct solution the right edge of the intersection \n",
    "between all the n equations, within which interval all eigenvalue modules are less \n",
    "than $1 -\\frac{\\epsilon}{2}$ (red area in the picture below). \n",
    "The chosen solution (red dot in the figure) ensures that at least one\n",
    "of the eigenvalues is exactly $1 -\\frac{\\epsilon}{2}$ and that \n",
    "this is also the maximum absolute eigenvalue (spectral radius) since \n",
    "all other values are also $1 -\\frac{\\epsilon}{2}$ (if they share a solution\n",
    "in that point) or less than $1 -\\frac{\\epsilon}{2}$."
   ]
  },
  {
   "cell_type": "code",
   "execution_count": 15,
   "metadata": {
    "ExecuteTime": {
     "end_time": "2017-10-18T10:30:30.683241Z",
     "start_time": "2017-10-18T10:30:30.677968Z"
    },
    "scrolled": true
   },
   "outputs": [
    {
     "data": {
      "image/png": "[encoded data removed]",
      "text/plain": [
       "<IPython.core.display.Image object>"
      ]
     },
     "execution_count": 15,
     "metadata": {
      "image/png": {
       "width": 500
      }
     },
     "output_type": "execute_result"
    }
   ],
   "source": [
    "from IPython.display import Image\n",
    "Image('pics/intersection.png', width=500)"
   ]
  },
  {
   "cell_type": "code",
   "execution_count": null,
   "metadata": {
    "ExecuteTime": {
     "end_time": "2017-10-18T10:25:41.475128Z",
     "start_time": "2017-10-18T10:25:35.328Z"
    },
    "scrolled": false
   },
   "outputs": [],
   "source": [
    "target = 1 - epsilon/2.\n",
    "\n",
    "W = SW.copy()\n",
    "\n",
    "#§§§§§§§§§§§§§§§§§§§§§§§§§§§§§§§§§§§§§§§§§§§§§§§§§§§\n",
    "#§§§§§§§§§§§§§§§§§§§§§§§§§§§§§§§§§§§§§§§§§§§§§§§§§§§\n",
    "#§§§§§§§§§§§§§§§§§§§§§§§§§§§§§§§§§§§§§§§§§§§§§§§§§§§\n",
    "start = time.clock()\n",
    "\n",
    "# --------------------------------------------------\n",
    "\n",
    "rho, e = get_rho_and_eig(W) \n",
    "x = e.real\n",
    "y = e.imag\n",
    "h = dt/tau\n",
    "a = x**2*h**2 + y**2*h**2\n",
    "b = 2*x*h - 2*x*h**2\n",
    "c = 1 + h**2 - 2*h - target**2\n",
    "\n",
    "# just get the positive solutions\n",
    "sol2 = (-b + sqrt(b**2 - 4*a*c))/(2*a)\n",
    "# and take the minor amongst them\n",
    "correctRhoMultiplier = min(sol2)\n",
    "W = correctRhoMultiplier*W\n",
    "# --------------------------------------------------\n",
    "print\n",
    "print\n",
    "print \"computed in {}s\".format(time.clock() - start)\n",
    "print \n",
    "print\n",
    "\n",
    "#§§§§§§§§§§§§§§§§§§§§§§§§§§§§§§§§§§§§§§§§§§§§§§§§§§§\n",
    "#§§§§§§§§§§§§§§§§§§§§§§§§§§§§§§§§§§§§§§§§§§§§§§§§§§§\n",
    "#§§§§§§§§§§§§§§§§§§§§§§§§§§§§§§§§§§§§§§§§§§§§§§§§§§§\n",
    "\n",
    "V = get_V_from_W(W)\n",
    "\n",
    "figure(\"Method3\")\n",
    "#*****************************\n",
    "m_rho, m_e = get_rho_and_eig(V)\n",
    "#*****************************\n",
    "subplot(121, aspect=\"equal\")\n",
    "title(\"eigenvalues of M_tilde\")\n",
    "scatter(real(m_e), imag(m_e))\n",
    "xlim([-m_rho, m_rho])\n",
    "ylim([-m_rho, m_rho])\n",
    "#*****************************\n",
    "\n",
    "#*****************************\n",
    "rho, e = get_rho_and_eig(W)\n",
    "#*****************************\n",
    "subplot(122, aspect=\"equal\")\n",
    "title(\"eigenvalues of W\")\n",
    "scatter(real(e), imag(e))\n",
    "xlim([-rho, rho])\n",
    "ylim([-rho, rho])\n",
    "#*****************************\n",
    "print \"\"\"\n",
    "ESP: analytical method (the RIGHT one)\n",
    "W\n",
    "--------------------------------------\n",
    "rho := {:16.12f}  \n",
    "min := {:8.4f}  max := {:8.4f}   \n",
    "\n",
    "V \n",
    "--------------------------------\n",
    "rho := {:16.12f}  \n",
    "min := {:8.4f}  max := {:8.4f}   \n",
    "\"\"\".format(rho, W.min(), W.max(), \n",
    "           m_rho, V.min(), V.max())\n"
   ]
  },
  {
   "cell_type": "markdown",
   "metadata": {},
   "source": [
    "### Redefining our ESN according to Jaeger 2007\n",
    "\n",
    "Our ESN has the following update:\n",
    "\n",
    "$\\dot{x_f} = -hx_f+h(I+\\rho_fWf(x_f))$\n",
    "\n",
    "while Jaeger's has the following:\n",
    "\n",
    "$\\dot{x_j} = -a_jx_j+f(I+\\rho_jWx_j)$\n",
    "\n",
    "The presence of $h$ multiplying the activation function f in our update makes it impossible to replicate our network using Jaeger's equation, unless h = 1.\n",
    "However, it is possible to define Jaeger's parameters $a_j$ and $\\rho_j$ so that Jaeger's network will follow the same dynamics of our network, scaled by a factor h.\n",
    "\n",
    "If $a_j = h$ and $\\rho_j = h\\rho_f$ then Jaeger's update will be:\n",
    "\n",
    "$x_j = -hx_j+f(I+h\\rho_fWx_j)$\n",
    "\n",
    "This will produce a network with the same dynamics as our network, but the internal states $x_j$ will be $1/h$ of our network states $x_f$ (so if $h = 0.1$ they will be 1/0.1 = 10 times larger).\n",
    "\n",
    "See code below for numerical proof.\n",
    "\n"
   ]
  },
  {
   "cell_type": "code",
   "execution_count": null,
   "metadata": {
    "ExecuteTime": {
     "end_time": "2017-10-18T10:25:41.476017Z",
     "start_time": "2017-10-18T10:25:35.333Z"
    },
    "scrolled": true
   },
   "outputs": [],
   "source": [
    "T = 100\n",
    "n_test = 20\n",
    "u = zeros([n,T])\n",
    "u[:,:10] = np.random.rand(n,10)\n",
    "\n",
    "x_f = np.zeros((n,T))\n",
    "x_j = np.zeros((n,T))\n",
    "x_f[:,0] = 0\n",
    "x_j[:,0] = 0\n",
    "for t in range(1,T):\n",
    "    x_f[:,t] = x_f[:,t-1]-h*x_f[:,t-1]+h*(u[:,t]+W.dot(tanh(x_f[:,t-1])))\n",
    "    x_j[:,t] = x_j[:,t-1]-h*x_j[:,t-1]+tanh(u[:,t]+h*W.dot(x_j[:,t-1]))\n",
    "\n",
    "figure(\"ESN Comparison: same dynamics but 1/h times wider h = %f\" % h, figsize=(15,5))\n",
    "subplot(121)#, aspect=\"equal\")\n",
    "title(\"Evolution of our ESN (first %i neurons)\" % n_test)\n",
    "plot(x_f[0:n_test,:].T)\n",
    "\n",
    "subplot(122)#, aspect=\"equal\")\n",
    "title(\"Evolution of Jaeger's ESN (first %i neurons)\" % n_test)\n",
    "plot(x_j[0:n_test,:].T)\n",
    "\n",
    "tight_layout()\n"
   ]
  }
 ],
 "metadata": {
  "css": [
   ""
  ],
  "kernelspec": {
   "display_name": "Python 2",
   "language": "python",
   "name": "python2"
  },
  "language_info": {
   "codemirror_mode": {
    "name": "ipython",
    "version": 2
   },
   "file_extension": ".py",
   "mimetype": "text/x-python",
   "name": "python",
   "nbconvert_exporter": "python",
   "pygments_lexer": "ipython2",
   "version": "2.7.12"
  },
  "latex_envs": {
   "bibliofile": "biblio.bib",
   "cite_by": "apalike",
   "current_citInitial": 1,
   "eqLabelWithNumbers": true,
   "eqNumInitial": 0
  },
  "varInspector": {
   "cols": {
    "lenName": 16,
    "lenType": 16,
    "lenVar": 40
   },
   "kernels_config": {
    "python": {
     "delete_cmd_postfix": "",
     "delete_cmd_prefix": "del ",
     "library": "var_list.py",
     "varRefreshCmd": "print(var_dic_list())"
    },
    "r": {
     "delete_cmd_postfix": ") ",
     "delete_cmd_prefix": "rm(",
     "library": "var_list.r",
     "varRefreshCmd": "cat(var_dic_list()) "
    }
   },
   "types_to_exclude": [
    "module",
    "function",
    "builtin_function_or_method",
    "instance",
    "_Feature"
   ],
   "window_display": false
  }
 },
 "nbformat": 4,
 "nbformat_minor": 1
}
